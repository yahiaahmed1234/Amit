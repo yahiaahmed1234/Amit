{
 "cells": [
  {
   "cell_type": "markdown",
   "id": "45ceee29",
   "metadata": {},
   "source": [
    "# Gravitational force is the attractive force that exists between two masses.\n",
    "#### It can be calculated by using the following formula:"
   ]
  },
  {
   "attachments": {
    "download.png": {
     "image/png": "[encoded data removed]"
    }
   },
   "cell_type": "markdown",
   "id": "cef33632",
   "metadata": {},
   "source": [
    "![download.png](attachment:download.png)"
   ]
  },
  {
   "cell_type": "code",
   "execution_count": 18,
   "id": "3b41a260",
   "metadata": {
    "scrolled": false
   },
   "outputs": [
    {
     "name": "stdout",
     "output_type": "stream",
     "text": [
      "This is a Gravitational force calculator\n",
      "Mass for first object in kg :6.0e24\n",
      "\n",
      "Mass for second object in kg :7.34e22\n",
      "\n",
      "The distance between two objects in meter :3.84e8\n",
      "The Gravitational force =  1.9920979817708333e+20 N\n"
     ]
    }
   ],
   "source": [
    "# the gravitational constant\n",
    "G = 6.67 * pow(10,-11)  #in the unit: N m2/kg2\n",
    "print(\"This is a Gravitational force calculator\")\n",
    "\n",
    "# get the masses and distance from the user\n",
    "\n",
    "M1= float(input(\"Mass for first object in kg :\"))\n",
    "M2= float(input(\"\\nMass for second object in kg :\"))\n",
    "r=  float(input(\"\\nThe distance between two objects in meter :\"))\n",
    "\n",
    "# calculate the gravitational force\n",
    "\n",
    "F= (float(G) * M1 * M2 )/pow(r,2)\n",
    "\n",
    "print(\"The Gravitational force = \", float(F) ,\"N\")"
   ]
  }
 ],
 "metadata": {
  "kernelspec": {
   "display_name": "Python 3 (ipykernel)",
   "language": "python",
   "name": "python3"
  },
  "language_info": {
   "codemirror_mode": {
    "name": "ipython",
    "version": 3
   },
   "file_extension": ".py",
   "mimetype": "text/x-python",
   "name": "python",
   "nbconvert_exporter": "python",
   "pygments_lexer": "ipython3",
   "version": "3.10.12"
  }
 },
 "nbformat": 4,
 "nbformat_minor": 5
}
